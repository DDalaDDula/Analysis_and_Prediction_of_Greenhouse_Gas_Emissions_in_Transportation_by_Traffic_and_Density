{
 "cells": [
  {
   "cell_type": "code",
   "execution_count": 1,
   "metadata": {},
   "outputs": [],
   "source": [
    "import geopandas as gpd\n",
    "import os"
   ]
  },
  {
   "cell_type": "code",
   "execution_count": 2,
   "metadata": {},
   "outputs": [],
   "source": [
    "shp_dir = \"./LSMD_CONT_UQ111_5174_대전\"\n",
    "shp_files = [f for f in os.listdir(shp_dir) if f.endswith('.shp')]\n",
    "\n",
    "shp_path = os.path.join(shp_dir, shp_files[0])\n",
    "gdf1 = gpd.read_file(shp_path, encoding='cp949')\n",
    "\n",
    "gdf1['category'] = gdf1['MNUM'].apply(\n",
    "    lambda x: '주거지역' if 'UQA1' in x else\n",
    "              '상업지역' if 'UQA2' in x else\n",
    "              '공업지역' if 'UQA3' in x else\n",
    "              '녹지지역' if 'UQA4' in x else\n",
    "              '기타'\n",
    ")\n",
    "\n",
    "daejeon_dict = {\n",
    "    '30110': '동구',\n",
    "    '30140': '중구',\n",
    "    '30170': '서구',\n",
    "    '30200': '유성구',\n",
    "    '30230': '대덕구'\n",
    "}\n",
    "\n",
    "gdf1['adm_cd'] = gdf1['COL_ADM_SE'].map(daejeon_dict)\n",
    "gdf1 = gdf1[['adm_cd', 'category', 'geometry']]\n",
    "\n",
    "gdf1 = gpd.GeoDataFrame(gdf1, geometry='geometry')\n",
    "gdf1 = gdf1.to_crs(epsg=4326)"
   ]
  },
  {
   "cell_type": "code",
   "execution_count": 52,
   "metadata": {},
   "outputs": [],
   "source": [
    "gdf1.to_csv(\"대전시_토지용도.csv\", index=False)"
   ]
  },
  {
   "cell_type": "code",
   "execution_count": 3,
   "metadata": {},
   "outputs": [],
   "source": [
    "shp_dir = \"./LSMD_CONT_UQ111_세종\"\n",
    "shp_files = [f for f in os.listdir(shp_dir) if f.endswith('.shp')]\n",
    "\n",
    "shp_path = os.path.join(shp_dir, shp_files[0])\n",
    "gdf2 = gpd.read_file(shp_path, encoding='cp949')\n",
    "\n",
    "gdf2['category'] = gdf2['MNUM'].apply(\n",
    "    lambda x: '주거지역' if 'UQA1' in x else\n",
    "              '상업지역' if 'UQA2' in x else\n",
    "              '공업지역' if 'UQA3' in x else\n",
    "              '녹지지역' if 'UQA4' in x else\n",
    "              '기타'\n",
    ")\n",
    "\n",
    "\n",
    "\n",
    "sejong_dict = {\n",
    "    '36110': '세종특별자치시',\n",
    "}\n",
    "\n",
    "gdf2['adm_cd'] = gdf2['COL_ADM_SE'].map(sejong_dict)\n",
    "gdf2 = gdf2[['adm_cd', 'category', 'geometry']]\n",
    "\n",
    "gdf2 = gpd.GeoDataFrame(gdf2, geometry='geometry')\n",
    "gdf2 = gdf2.to_crs(epsg=4326)"
   ]
  },
  {
   "cell_type": "code",
   "execution_count": 46,
   "metadata": {},
   "outputs": [],
   "source": [
    "gdf2.to_csv(\"세종시_토지용도.csv\", index=False)"
   ]
  },
  {
   "cell_type": "code",
   "execution_count": 4,
   "metadata": {},
   "outputs": [],
   "source": [
    "import geopandas as gpd\n",
    "import os\n",
    "\n",
    "shp_dir = \"./LSMD_CONT_UQ111_충북\"\n",
    "shp_files = [f for f in os.listdir(shp_dir) if f.endswith('.shp')]\n",
    "\n",
    "shp_path = os.path.join(shp_dir, shp_files[0])\n",
    "gdf3 = gpd.read_file(shp_path, encoding='cp949')\n",
    "\n",
    "gdf3['category'] = gdf3['MNUM'].apply(\n",
    "    lambda x: '주거지역' if 'UQA1' in x else\n",
    "              '상업지역' if 'UQA2' in x else\n",
    "              '공업지역' if 'UQA3' in x else\n",
    "              '녹지지역' if 'UQA4' in x else\n",
    "              '기타'\n",
    ")\n",
    "\n",
    "gdf3 = gdf3[gdf3['COL_ADM_SE'] == \"43110\"]\n",
    "\n",
    "chungju_dict = {\n",
    "    '43110': '청주시',\n",
    "}\n",
    "\n",
    "gdf3['adm_cd'] = gdf3['COL_ADM_SE'].map(chungju_dict)\n",
    "gdf3 = gdf3[['adm_cd', 'category', 'geometry']]\n",
    "\n",
    "gdf3 = gpd.GeoDataFrame(gdf3, geometry='geometry')\n",
    "gdf3 = gdf3.to_crs(epsg=4326)"
   ]
  },
  {
   "cell_type": "code",
   "execution_count": 49,
   "metadata": {},
   "outputs": [],
   "source": [
    "gdf3.to_csv(\"청주시_토지용도.csv\", index=False)"
   ]
  },
  {
   "cell_type": "markdown",
   "metadata": {},
   "source": [
    "## 행정경계"
   ]
  },
  {
   "cell_type": "code",
   "execution_count": 5,
   "metadata": {},
   "outputs": [],
   "source": [
    "import pandas as pd\n",
    "dj_b = pd.read_csv(\"./대전시_행정경계.csv\")\n",
    "sj_b = pd.read_csv(\"./세종시_행정경계.csv\")\n",
    "cj_b = pd.read_csv(\"./청주시_행정경계.csv\")"
   ]
  },
  {
   "cell_type": "markdown",
   "metadata": {},
   "source": [
    "## 주행거리"
   ]
  },
  {
   "cell_type": "code",
   "execution_count": 10,
   "metadata": {},
   "outputs": [],
   "source": [
    "ve_bu = pd.read_csv(\"ve_bu_2022.csv\")\n",
    "ve_ca = pd.read_csv(\"ve_ca_2022.csv\")\n",
    "ve_tr = pd.read_csv(\"ve_tr_2022.csv\")"
   ]
  },
  {
   "cell_type": "markdown",
   "metadata": {},
   "source": [
    "## 확인"
   ]
  },
  {
   "cell_type": "code",
   "execution_count": 8,
   "metadata": {},
   "outputs": [],
   "source": [
    "import pandas as pd\n",
    "import numpy as np\n",
    "import plotly.express as px\n",
    "import plotly.graph_objects as go\n",
    "import plotly.graph_objs as go\n",
    "import plotly.offline as offline\n",
    "from folium.plugins import HeatMapWithTime\n",
    "from plotly.subplots import make_subplots\n",
    "import folium\n",
    "from folium import plugins\n",
    "from folium.plugins import HeatMap\n",
    "from folium import FeatureGroup\n",
    "import json\n",
    "import math\n",
    "import re\n",
    "from datetime import datetime\n",
    "import os\n",
    "import glob\n",
    "import subprocess\n",
    "from bs4 import BeautifulSoup as bs\n",
    "from shapely.geometry import Point, Polygon, LineString\n",
    "from shapely.ops import unary_union\n",
    "import geopandas as gpd\n",
    "from geopandas import GeoSeries\n",
    "import pyproj\n",
    "from tqdm import tqdm\n",
    "from keplergl import KeplerGl\n",
    "import matplotlib.pyplot as plt\n",
    "plt.rcParams['font.family'] ='Malgun Gothic'\n",
    "plt.rcParams['axes.unicode_minus'] =False\n",
    "\n",
    "# tqdm의 pandas전용 메소드를 호출\n",
    "tqdm.pandas()\n",
    "# 모든 열이 생략되지 않도록 설정\n",
    "pd.set_option('display.max_columns', None)\n",
    " \n",
    "# Point를만드는 함수\n",
    "def make_point(x):\n",
    "    try:\n",
    "        return Point(x)\n",
    "    except Exception as e:\n",
    "        print(f\"An error occurred: {e}\")\n",
    "        return None\n",
    "# Polygon을 만드는 함수\n",
    "def make_pol(x):\n",
    "    try:\n",
    "        return Polygon(x[0])\n",
    "    except:\n",
    "        return Polygon(x[0][0])\n",
    "    \n",
    "# Linestring을 만드는 함수\n",
    "def make_lin(x):\n",
    "    try:\n",
    "        return LineString(x)\n",
    "    except:\n",
    "        return LineString(x[0])\n",
    "\n",
    "# 데이터프레임을 GeoPandas 데이터프레임으로 변환하는 함수 정의\n",
    "def geo_transform(DataFrame) :\n",
    "    # csv to geopandas\n",
    "    # lon, lat data를 geometry로 변경\n",
    "    DataFrame['lat'] = DataFrame['lat'].astype(float)\n",
    "    DataFrame['lon'] = DataFrame['lon'].astype(float)\n",
    "    DataFrame['geometry'] = DataFrame.progress_apply(lambda row : Point([row['lon'], row['lat']]), axis=1) # 위도 및 경도롤 GeoPandas Point 객체로 변환\n",
    "    DataFrame = gpd.GeoDataFrame(DataFrame, geometry='geometry')\n",
    "    DataFrame.crs = {'init':'epsg:4326'} # geopandas 데이터프레임의 좌표계를 EPSG 4326으로 설정\n",
    "    DataFrame = DataFrame.to_crs({'init':'epsg:4326'}) # 데이터프레임의 좌표계를 자체 좌표계에서 EPSG 4326으로 변환\n",
    "    return DataFrame"
   ]
  },
  {
   "cell_type": "markdown",
   "metadata": {},
   "source": [
    "#### 주행거리 시각화"
   ]
  },
  {
   "cell_type": "code",
   "execution_count": 11,
   "metadata": {},
   "outputs": [],
   "source": [
    "ve_bu = pd.read_csv(\"ve_bu_2022.csv\")\n",
    "ve_ca = pd.read_csv(\"ve_ca_2022.csv\")\n",
    "ve_tr = pd.read_csv(\"ve_tr_2022.csv\")"
   ]
  },
  {
   "cell_type": "code",
   "execution_count": 12,
   "metadata": {},
   "outputs": [
    {
     "name": "stdout",
     "output_type": "stream",
     "text": [
      "User Guide: https://docs.kepler.gl/docs/keplergl-jupyter\n"
     ]
    },
    {
     "name": "stderr",
     "output_type": "stream",
     "text": [
      "c:\\Users\\hjk\\anaconda3\\envs\\GIS\\lib\\site-packages\\jupyter_client\\session.py:719: UserWarning:\n",
      "\n",
      "Message serialization failed with:\n",
      "Out of range float values are not JSON compliant\n",
      "Supporting this message is deprecated in jupyter-client 7, please make sure your message is JSON-compliant\n",
      "\n",
      "c:\\Users\\hjk\\anaconda3\\envs\\GIS\\lib\\site-packages\\jupyter_client\\session.py:719: UserWarning:\n",
      "\n",
      "Message serialization failed with:\n",
      "Out of range float values are not JSON compliant\n",
      "Supporting this message is deprecated in jupyter-client 7, please make sure your message is JSON-compliant\n",
      "\n",
      "c:\\Users\\hjk\\anaconda3\\envs\\GIS\\lib\\site-packages\\jupyter_client\\session.py:719: UserWarning:\n",
      "\n",
      "Message serialization failed with:\n",
      "Out of range float values are not JSON compliant\n",
      "Supporting this message is deprecated in jupyter-client 7, please make sure your message is JSON-compliant\n",
      "\n",
      "c:\\Users\\hjk\\anaconda3\\envs\\GIS\\lib\\site-packages\\jupyter_client\\session.py:719: UserWarning:\n",
      "\n",
      "Message serialization failed with:\n",
      "Out of range float values are not JSON compliant\n",
      "Supporting this message is deprecated in jupyter-client 7, please make sure your message is JSON-compliant\n",
      "\n",
      "c:\\Users\\hjk\\anaconda3\\envs\\GIS\\lib\\site-packages\\jupyter_client\\session.py:719: UserWarning:\n",
      "\n",
      "Message serialization failed with:\n",
      "Out of range float values are not JSON compliant\n",
      "Supporting this message is deprecated in jupyter-client 7, please make sure your message is JSON-compliant\n",
      "\n",
      "c:\\Users\\hjk\\anaconda3\\envs\\GIS\\lib\\site-packages\\jupyter_client\\session.py:719: UserWarning:\n",
      "\n",
      "Message serialization failed with:\n",
      "Out of range float values are not JSON compliant\n",
      "Supporting this message is deprecated in jupyter-client 7, please make sure your message is JSON-compliant\n",
      "\n"
     ]
    },
    {
     "data": {
      "application/vnd.jupyter.widget-view+json": {
       "model_id": "0e104c365dee4478a19299a56983fd18",
       "version_major": 2,
       "version_minor": 0
      },
      "text/plain": [
       "KeplerGl(data={'대전시_주행거리': {'index': [0, 1, 2, 3, 4, 5, 6, 7, 8, 9, 10, 11, 12, 13, 14, 15, 16, 17, 18, 19, 20…"
      ]
     },
     "metadata": {},
     "output_type": "display_data"
    }
   ],
   "source": [
    "# 맵 객체 생성 및 데이터 로드\n",
    "map = KeplerGl(height=1000, width=1500)\n",
    "\n",
    "# 도시 행정경계\n",
    "map.add_data(data=ve_bu, name=\"대전시_주행거리\")\n",
    "map.add_data(data=ve_ca, name=\"세종시_주행거리\")\n",
    "map.add_data(data=ve_tr, name=\"청주시_주행거리\")\n",
    "\n",
    "# 도시 행정경계\n",
    "map.add_data(data=dj_b, name=\"대전시\")\n",
    "map.add_data(data=sj_b, name=\"세종시\")\n",
    "map.add_data(data=cj_b, name=\"청주시\")\n",
    "\n",
    "# 맵 출력 및 상세설정\n",
    "map"
   ]
  },
  {
   "cell_type": "code",
   "execution_count": 23,
   "metadata": {},
   "outputs": [
    {
     "name": "stdout",
     "output_type": "stream",
     "text": [
      "Map saved to 대세청_행정구역.html!\n"
     ]
    }
   ],
   "source": [
    "map.save_to_html(file_name=\"대세청_행정구역.html\")"
   ]
  },
  {
   "cell_type": "code",
   "execution_count": 21,
   "metadata": {},
   "outputs": [
    {
     "name": "stdout",
     "output_type": "stream",
     "text": [
      "Map saved to dj_sj_cj_map.html!\n"
     ]
    }
   ],
   "source": [
    "map.save_to_html(file_name=\"dj_sj_cj_map.html\")"
   ]
  }
 ],
 "metadata": {
  "kernelspec": {
   "display_name": "GIS",
   "language": "python",
   "name": "python3"
  },
  "language_info": {
   "codemirror_mode": {
    "name": "ipython",
    "version": 3
   },
   "file_extension": ".py",
   "mimetype": "text/x-python",
   "name": "python",
   "nbconvert_exporter": "python",
   "pygments_lexer": "ipython3",
   "version": "3.8.16"
  }
 },
 "nbformat": 4,
 "nbformat_minor": 2
}
